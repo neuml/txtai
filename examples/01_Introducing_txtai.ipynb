{
  "nbformat": 4,
  "nbformat_minor": 0,
  "metadata": {
    "kernelspec": {
      "name": "python3",
      "display_name": "Python 3"
    },
    "language_info": {
      "name": "python",
      "version": "3.7.6",
      "mimetype": "text/x-python",
      "codemirror_mode": {
        "name": "ipython",
        "version": 3
      },
      "pygments_lexer": "ipython3",
      "nbconvert_exporter": "python",
      "file_extension": ".py"
    },
    "colab": {
      "provenance": [],
      "gpuType": "T4"
    },
    "accelerator": "GPU"
  },
  "cells": [
    {
      "cell_type": "markdown",
      "metadata": {
        "id": "POWZoSJR6XzK"
      },
      "source": [
        "# Introducing txtai\n",
        "\n",
        "[txtai](https://github.com/neuml/txtai) is an all-in-one embeddings database for semantic search, LLM orchestration and language model workflows.\n",
        "\n",
        "Embeddings databases are a union of vector indexes (sparse and dense), graph networks and relational databases. This enables vector search with SQL, topic modeling, retrieval augmented generation and more.\n",
        "\n",
        "Embeddings databases can stand on their own and/or serve as a powerful knowledge source for large language model (LLM) prompts.\n",
        "\n",
        "The following is a summary of key features:\n",
        "\n",
        "- 🔎 Vector search with SQL, object storage, topic modeling, graph analysis and multimodal indexing\n",
        "- 📄 Create embeddings for text, documents, audio, images and video\n",
        "- 💡 Pipelines powered by language models that run LLM prompts, question-answering, labeling, transcription, translation, summarization and more\n",
        "- ↪️️ Workflows to join pipelines together and aggregate business logic. txtai processes can be simple microservices or multi-model workflows.\n",
        "- ⚙️ Build with Python or YAML. API bindings available for [JavaScript](https://github.com/neuml/txtai.js), [Java](https://github.com/neuml/txtai.java), [Rust](https://github.com/neuml/txtai.rs) and [Go](https://github.com/neuml/txtai.go).\n",
        "- ☁️ Run local or scale out with container orchestration\n",
        "\n",
        "txtai is built with Python 3.8+, [Hugging Face Transformers](https://github.com/huggingface/transformers), [Sentence Transformers](https://github.com/UKPLab/sentence-transformers) and [FastAPI](https://github.com/tiangolo/fastapi). txtai is open-source under an Apache 2.0 license."
      ]
    },
    {
      "cell_type": "markdown",
      "metadata": {
        "id": "qa_PPKVX6XzN"
      },
      "source": [
        "# Install dependencies\n",
        "\n",
        "Install `txtai` and all dependencies."
      ]
    },
    {
      "cell_type": "code",
      "metadata": {
        "_uuid": "8f2839f25d086af736a60e9eeb907d3b93b6e0e5",
        "_cell_guid": "b1076dfc-b9ad-4769-8c92-a6c4dae69d19",
        "trusted": true,
        "_kg_hide-output": true,
        "id": "24q-1n5i6XzQ"
      },
      "source": [
        "%%capture\n",
        "!pip install git+https://github.com/neuml/txtai#egg=txtai[graph]\n",
        "\n",
        "# Install translation pipeline dependencies for later examples\n",
        "!pip install sentencepiece sacremoses fasttext"
      ],
      "execution_count": 1,
      "outputs": []
    },
    {
      "cell_type": "markdown",
      "metadata": {
        "id": "DLIjSzbq6Xzx"
      },
      "source": [
        "# Semantic search\n",
        "\n",
        "Embeddings databases are the engine that delivers semantic search. Data is transformed into embeddings vectors where similar concepts will produce similar vectors. Indexes both large and small are built with these vectors. The indexes are used to find results that have the same meaning, not necessarily the same keywords.\n",
        "\n",
        "The basic use case for an embeddings database is building an approximate nearest neighbor (ANN) index for semantic search. The following example indexes a small number of text entries to demonstrate the value of semantic search.\n"
      ]
    },
    {
      "cell_type": "code",
      "metadata": {
        "trusted": true,
        "id": "QxX9EtIc6Xzg"
      },
      "source": [
        "%%capture\n",
        "\n",
        "from txtai import Embeddings\n",
        "\n",
        "# Works with a list, dataset or generator\n",
        "data = [\n",
        "  \"US tops 5 million confirmed virus cases\",\n",
        "  \"Canada's last fully intact ice shelf has suddenly collapsed, forming a Manhattan-sized iceberg\",\n",
        "  \"Beijing mobilises invasion craft along coast as Taiwan tensions escalate\",\n",
        "  \"The National Park Service warns against sacrificing slower friends in a bear attack\",\n",
        "  \"Maine man wins $1M from $25 lottery ticket\",\n",
        "  \"Make huge profits without work, earn up to $100,000 a day\"\n",
        "]\n",
        "\n",
        "# Create an embeddings\n",
        "embeddings = Embeddings(path=\"sentence-transformers/nli-mpnet-base-v2\")"
      ],
      "execution_count": 2,
      "outputs": []
    },
    {
      "cell_type": "code",
      "metadata": {
        "trusted": true,
        "id": "cXfZtdHD6Xzy",
        "colab": {
          "base_uri": "https://localhost:8080/"
        },
        "outputId": "369b637e-1e1c-4229-f68e-92917be5fbd0"
      },
      "source": [
        "# Create an index for the list of text\n",
        "embeddings.index(data)\n",
        "\n",
        "print(\"%-20s %s\" % (\"Query\", \"Best Match\"))\n",
        "print(\"-\" * 50)\n",
        "\n",
        "# Run an embeddings search for each query\n",
        "for query in (\"feel good story\", \"climate change\", \"public health story\", \"war\", \"wildlife\", \"asia\", \"lucky\", \"dishonest junk\"):\n",
        "  # Extract uid of first result\n",
        "  # search result format: (uid, score)\n",
        "  uid = embeddings.search(query, 1)[0][0]\n",
        "\n",
        "  # Print text\n",
        "  print(\"%-20s %s\" % (query, data[uid]))"
      ],
      "execution_count": 3,
      "outputs": [
        {
          "output_type": "stream",
          "name": "stdout",
          "text": [
            "Query                Best Match\n",
            "--------------------------------------------------\n",
            "feel good story      Maine man wins $1M from $25 lottery ticket\n",
            "climate change       Canada's last fully intact ice shelf has suddenly collapsed, forming a Manhattan-sized iceberg\n",
            "public health story  US tops 5 million confirmed virus cases\n",
            "war                  Beijing mobilises invasion craft along coast as Taiwan tensions escalate\n",
            "wildlife             The National Park Service warns against sacrificing slower friends in a bear attack\n",
            "asia                 Beijing mobilises invasion craft along coast as Taiwan tensions escalate\n",
            "lucky                Maine man wins $1M from $25 lottery ticket\n",
            "dishonest junk       Make huge profits without work, earn up to $100,000 a day\n"
          ]
        }
      ]
    },
    {
      "cell_type": "markdown",
      "metadata": {
        "id": "kIMbLW0t6Xzw"
      },
      "source": [
        "The example above shows that for all of the queries, the query text isn’t in the data. This is the true power of transformers models over token based search. What you get out of the box is 🔥🔥🔥!"
      ]
    },
    {
      "cell_type": "markdown",
      "metadata": {
        "id": "6m7sYUj_AdOL"
      },
      "source": [
        "# Updates and deletes\n",
        "\n",
        "Updates and deletes are supported for embeddings. The upsert operation will insert new data and update existing data\n",
        "\n",
        "The following section runs a query, then updates a value changing the top result and finally deletes the updated value to revert back to the original query results."
      ]
    },
    {
      "cell_type": "code",
      "metadata": {
        "colab": {
          "base_uri": "https://localhost:8080/"
        },
        "id": "2CERR0U2Ac8C",
        "outputId": "0c1f4dd2-1319-410b-91a4-7753adba2c26"
      },
      "source": [
        "# Run initial query\n",
        "uid = embeddings.search(\"feel good story\", 1)[0][0]\n",
        "print(\"Initial: \", data[uid])\n",
        "\n",
        "# Create a copy of data to modify\n",
        "udata = data.copy()\n",
        "\n",
        "# Update data\n",
        "udata[0] = \"See it: baby panda born\"\n",
        "embeddings.upsert([(0, udata[0], None)])\n",
        "\n",
        "uid = embeddings.search(\"feel good story\", 1)[0][0]\n",
        "print(\"After update: \", udata[uid])\n",
        "\n",
        "# Remove record just added from index\n",
        "embeddings.delete([0])\n",
        "\n",
        "# Ensure value matches previous value\n",
        "uid = embeddings.search(\"feel good story\", 1)[0][0]\n",
        "print(\"After delete: \", udata[uid])"
      ],
      "execution_count": 4,
      "outputs": [
        {
          "output_type": "stream",
          "name": "stdout",
          "text": [
            "Initial:  Maine man wins $1M from $25 lottery ticket\n",
            "After update:  See it: baby panda born\n",
            "After delete:  Maine man wins $1M from $25 lottery ticket\n"
          ]
        }
      ]
    },
    {
      "cell_type": "markdown",
      "metadata": {
        "id": "6TCVl6QA6Xz5"
      },
      "source": [
        "# Persistence\n",
        "\n",
        "Embeddings can be saved to storage and reloaded."
      ]
    },
    {
      "cell_type": "code",
      "metadata": {
        "trusted": true,
        "id": "5gyO90Hc6Xz7",
        "colab": {
          "base_uri": "https://localhost:8080/"
        },
        "outputId": "5460fcd8-5b9f-4064-9ac3-f72e5db9ecf4"
      },
      "source": [
        "embeddings.save(\"index\")\n",
        "\n",
        "embeddings = Embeddings()\n",
        "embeddings.load(\"index\")\n",
        "\n",
        "uid = embeddings.search(\"climate change\", 1)[0][0]\n",
        "print(data[uid])"
      ],
      "execution_count": 5,
      "outputs": [
        {
          "output_type": "stream",
          "name": "stdout",
          "text": [
            "Canada's last fully intact ice shelf has suddenly collapsed, forming a Manhattan-sized iceberg\n"
          ]
        }
      ]
    },
    {
      "cell_type": "markdown",
      "source": [
        "# Hybrid search\n",
        "\n",
        "While dense vector indexes are by far the best option for semantic search systems, sparse keyword indexes can still add value. There may be cases where finding an exact match is important.\n",
        "\n",
        "Hybrid search combines the results from sparse and dense vector indexes for the best of both worlds."
      ],
      "metadata": {
        "id": "giNZ_fHmqT8u"
      }
    },
    {
      "cell_type": "code",
      "source": [
        "# Create an embeddings\n",
        "embeddings = Embeddings(hybrid=True, path=\"sentence-transformers/nli-mpnet-base-v2\")\n",
        "\n",
        "# Create an index for the list of text\n",
        "embeddings.index(data)\n",
        "\n",
        "print(\"%-20s %s\" % (\"Query\", \"Best Match\"))\n",
        "print(\"-\" * 50)\n",
        "\n",
        "# Run an embeddings search for each query\n",
        "for query in (\"feel good story\", \"climate change\", \"public health story\", \"war\", \"wildlife\", \"asia\", \"lucky\", \"dishonest junk\"):\n",
        "  # Extract uid of first result\n",
        "  # search result format: (uid, score)\n",
        "  uid = embeddings.search(query, 1)[0][0]\n",
        "\n",
        "  # Print text\n",
        "  print(\"%-20s %s\" % (query, data[uid]))"
      ],
      "metadata": {
        "colab": {
          "base_uri": "https://localhost:8080/"
        },
        "id": "lclxiRFRqsFv",
        "outputId": "3bd15b63-3bf4-4132-a819-0f560fce3f92"
      },
      "execution_count": 6,
      "outputs": [
        {
          "output_type": "stream",
          "name": "stdout",
          "text": [
            "Query                Best Match\n",
            "--------------------------------------------------\n",
            "feel good story      Maine man wins $1M from $25 lottery ticket\n",
            "climate change       Canada's last fully intact ice shelf has suddenly collapsed, forming a Manhattan-sized iceberg\n",
            "public health story  US tops 5 million confirmed virus cases\n",
            "war                  Beijing mobilises invasion craft along coast as Taiwan tensions escalate\n",
            "wildlife             The National Park Service warns against sacrificing slower friends in a bear attack\n",
            "asia                 Beijing mobilises invasion craft along coast as Taiwan tensions escalate\n",
            "lucky                Maine man wins $1M from $25 lottery ticket\n",
            "dishonest junk       Make huge profits without work, earn up to $100,000 a day\n"
          ]
        }
      ]
    },
    {
      "cell_type": "markdown",
      "source": [
        "Same results as with semantic search. Let's run the same example with just a keyword index to view those results."
      ],
      "metadata": {
        "id": "d9beQSw-vhz8"
      }
    },
    {
      "cell_type": "code",
      "source": [
        "# Create an embeddings\n",
        "embeddings = Embeddings(keyword=True)\n",
        "\n",
        "# Create an index for the list of text\n",
        "embeddings.index(data)\n",
        "\n",
        "print(embeddings.search(\"feel good story\"))\n",
        "print(embeddings.search(\"lottery\"))"
      ],
      "metadata": {
        "colab": {
          "base_uri": "https://localhost:8080/"
        },
        "id": "WykNb8y3vohL",
        "outputId": "5617e912-1014-495c-9dc9-e5729988d77f"
      },
      "execution_count": 7,
      "outputs": [
        {
          "output_type": "stream",
          "name": "stdout",
          "text": [
            "[]\n",
            "[(4, 0.5234998733628726)]\n"
          ]
        }
      ]
    },
    {
      "cell_type": "markdown",
      "source": [
        "See that when the embeddings instance only uses a keyword index, it can't find semantic matches, only keyword matches."
      ],
      "metadata": {
        "id": "P0FLRsrmv2hB"
      }
    },
    {
      "cell_type": "markdown",
      "source": [
        "# Content storage\n",
        "\n",
        "Up to this point, all the examples are referencing the original data array to retrieve the input text. This works fine for a demo but what if you have millions of documents? In this case, the text needs to be retrieved from an external datastore using the id.\n",
        "\n",
        "Content storage adds an associated database (i.e. SQLite, DuckDB) that stores associated metadata with the vector index. The document text, additional metadata and additional objects can be stored and retrieved right alongside the indexed vectors."
      ],
      "metadata": {
        "id": "0p3WCDniUths"
      }
    },
    {
      "cell_type": "code",
      "source": [
        "# Create embeddings with content enabled. The default behavior is to only store indexed vectors.\n",
        "embeddings = Embeddings(path=\"sentence-transformers/nli-mpnet-base-v2\", content=True, objects=True)\n",
        "\n",
        "# Create an index for the list of text\n",
        "embeddings.index(data)\n",
        "\n",
        "print(embeddings.search(\"feel good story\", 1)[0][\"text\"])"
      ],
      "metadata": {
        "colab": {
          "base_uri": "https://localhost:8080/"
        },
        "id": "MOntBQIdVv-J",
        "outputId": "c9d0d3e7-d7b4-4421-f63d-402db6918cca"
      },
      "execution_count": 8,
      "outputs": [
        {
          "output_type": "stream",
          "name": "stdout",
          "text": [
            "Maine man wins $1M from $25 lottery ticket\n"
          ]
        }
      ]
    },
    {
      "cell_type": "markdown",
      "source": [
        "The only change above is setting the *content* flag to True. This enables storing text and metadata content (if provided) alongside the index. Note how the text is pulled right from the query result!\n",
        "\n",
        "Let's add some metadata."
      ],
      "metadata": {
        "id": "hHGvhZm-ZTzL"
      }
    },
    {
      "cell_type": "markdown",
      "source": [
        "# Query with SQL\n",
        "\n",
        "When content is enabled, the entire dictionary is stored and can be queried. In addition to vector queries, txtai accepts SQL queries. This enables combined queries using both a vector index and content stored in a database backend."
      ],
      "metadata": {
        "id": "BYWUFBUGyKyY"
      }
    },
    {
      "cell_type": "code",
      "source": [
        "# Create an index for the list of text\n",
        "embeddings.index([{\"text\": text, \"length\": len(text)} for text in data])\n",
        "\n",
        "# Filter by score\n",
        "print(embeddings.search(\"select text, score from txtai where similar('hiking danger') and score >= 0.15\"))\n",
        "\n",
        "# Filter by metadata field 'length'\n",
        "print(embeddings.search(\"select text, length, score from txtai where similar('feel good story') and score >= 0.05 and length >= 40\"))\n",
        "\n",
        "# Run aggregate queries\n",
        "print(embeddings.search(\"select count(*), min(length), max(length), sum(length) from txtai\"))"
      ],
      "metadata": {
        "colab": {
          "base_uri": "https://localhost:8080/"
        },
        "id": "aPH-dnV2ZuL1",
        "outputId": "c563060c-d292-4b19-aa64-f4c629008cdb"
      },
      "execution_count": 9,
      "outputs": [
        {
          "output_type": "stream",
          "name": "stdout",
          "text": [
            "[{'text': 'The National Park Service warns against sacrificing slower friends in a bear attack', 'score': 0.3151373863220215}]\n",
            "[{'text': 'Maine man wins $1M from $25 lottery ticket', 'length': 42, 'score': 0.08329027891159058}]\n",
            "[{'count(*)': 6, 'min(length)': 39, 'max(length)': 94, 'sum(length)': 387}]\n"
          ]
        }
      ]
    },
    {
      "cell_type": "markdown",
      "source": [
        "This example above adds a simple additional field, text length.\n",
        "\n",
        "Note the second query is filtering on the metadata field length along with a `similar` query clause. This gives a great blend of vector search with traditional filtering to help identify the best results."
      ],
      "metadata": {
        "id": "oH4Yd9BOlo5u"
      }
    },
    {
      "cell_type": "markdown",
      "source": [
        "# Object storage\n",
        "\n",
        "In addition to metadata, binary content can also be associated with documents. The example below downloads an image, upserts it along with associated text into the embeddings index."
      ],
      "metadata": {
        "id": "lGmiYXyqyjtQ"
      }
    },
    {
      "cell_type": "code",
      "source": [
        "import urllib\n",
        "\n",
        "from IPython.display import Image\n",
        "\n",
        "# Get an image\n",
        "request = urllib.request.urlopen(\"https://raw.githubusercontent.com/neuml/txtai/master/demo.gif\")\n",
        "\n",
        "# Upsert new record having both text and an object\n",
        "embeddings.upsert([(\"txtai\", {\"text\": \"txtai executes machine-learning workflows to transform data and build AI-powered semantic search applications.\", \"object\": request.read()}, None)])\n",
        "\n",
        "# Query txtai for the most similar result to \"machine learning\" and get associated object\n",
        "result = embeddings.search(\"select object from txtai where similar('machine learning') limit 1\")[0][\"object\"]\n",
        "\n",
        "# Display image\n",
        "Image(result.getvalue(), width=600)"
      ],
      "metadata": {
        "colab": {
          "base_uri": "https://localhost:8080/",
          "height": 307
        },
        "id": "Ef4-Gd8ZtzUF",
        "outputId": "aaa811e8-ee3a-43ed-dab3-994ca6014a64"
      },
      "execution_count": 10,
      "outputs": [
        {
          "output_type": "execute_result",
          "data": {
            "image/png": "[encoded data removed]",
            "text/plain": [
              "<IPython.core.display.Image object>"
            ]
          },
          "metadata": {
            "image/png": {
              "width": 600
            }
          },
          "execution_count": 10
        }
      ]
    },
    {
      "cell_type": "markdown",
      "source": [
        "# Topic modeling\n",
        "\n",
        "Topic modeling is enabled via semantic graphs. Semantic graphs, also known as knowledge graphs or semantic networks, build a graph network with semantic relationships connecting the nodes. In txtai, they can take advantage of the relationships inherently learned within an embeddings index."
      ],
      "metadata": {
        "id": "boEY-GSUsi_L"
      }
    },
    {
      "cell_type": "code",
      "source": [
        "# Create embeddings with a graph index\n",
        "embeddings = Embeddings(\n",
        "  path=\"sentence-transformers/nli-mpnet-base-v2\",\n",
        "  content=True,\n",
        "  functions=[\n",
        "    {\"name\": \"graph\", \"function\": \"graph.attribute\"},\n",
        "  ],\n",
        "  expressions=[\n",
        "    {\"name\": \"category\", \"expression\": \"graph(indexid, 'category')\"},\n",
        "    {\"name\": \"topic\", \"expression\": \"graph(indexid, 'topic')\"},\n",
        "  ],\n",
        "  graph={\n",
        "    \"topics\": {\n",
        "      \"categories\": [\"health\", \"climate\", \"finance\", \"world politics\"]\n",
        "    }\n",
        "  }\n",
        ")\n",
        "\n",
        "embeddings.index(data)\n",
        "embeddings.search(\"select topic, category, text from txtai\")\n"
      ],
      "metadata": {
        "colab": {
          "base_uri": "https://localhost:8080/"
        },
        "id": "k7eRzturtCwr",
        "outputId": "794d10d6-8463-4e8c-c1d1-0af59e97e59f"
      },
      "execution_count": 11,
      "outputs": [
        {
          "output_type": "execute_result",
          "data": {
            "text/plain": [
              "[{'topic': 'confirmed_cases_us_5',\n",
              "  'category': 'health',\n",
              "  'text': 'US tops 5 million confirmed virus cases'},\n",
              " {'topic': 'collapsed_iceberg_ice_intact',\n",
              "  'category': 'climate',\n",
              "  'text': \"Canada's last fully intact ice shelf has suddenly collapsed, forming a Manhattan-sized iceberg\"},\n",
              " {'topic': 'beijing_along_craft_tensions',\n",
              "  'category': 'world politics',\n",
              "  'text': 'Beijing mobilises invasion craft along coast as Taiwan tensions escalate'}]"
            ]
          },
          "metadata": {},
          "execution_count": 11
        }
      ]
    },
    {
      "cell_type": "markdown",
      "source": [
        "When a graph index is enabled, topics are assigned to each of the entries in the embeddings instance. Topics are dynamically created using a sparse index over graph nodes grouped by [community detection algorithms](https://en.wikipedia.org/wiki/Community_structure).\n",
        "\n",
        "Topic categories are also be derived as shown above."
      ],
      "metadata": {
        "id": "0VTB-LjExpfv"
      }
    },
    {
      "cell_type": "markdown",
      "source": [
        "# Subindexes\n",
        "\n",
        "Subindexes can be configured for an embeddings. A single embeddings instance can have multiple subindexes each with different configurations.\n",
        "\n",
        "We'll build an embeddings index having both a keyword and dense index to demonstrate."
      ],
      "metadata": {
        "id": "0aOJOxE3y4vD"
      }
    },
    {
      "cell_type": "code",
      "source": [
        "# Create embeddings with subindexes\n",
        "embeddings = Embeddings(\n",
        "  content=True,\n",
        "  defaults=False,\n",
        "  indexes={\n",
        "    \"keyword\": {\n",
        "      \"keyword\": True\n",
        "    },\n",
        "    \"dense\": {\n",
        "      \"path\": \"sentence-transformers/nli-mpnet-base-v2\"\n",
        "    }\n",
        "  }\n",
        ")\n",
        "embeddings.index(data)"
      ],
      "metadata": {
        "id": "TOwwKw3w_eJG"
      },
      "execution_count": 12,
      "outputs": []
    },
    {
      "cell_type": "code",
      "source": [
        "embeddings.search(\"feel good story\", limit=1, index=\"keyword\")"
      ],
      "metadata": {
        "colab": {
          "base_uri": "https://localhost:8080/"
        },
        "id": "M0HKb9mzxkL-",
        "outputId": "16200bfc-715a-4dfe-89c4-cd6476c0425a"
      },
      "execution_count": 13,
      "outputs": [
        {
          "output_type": "execute_result",
          "data": {
            "text/plain": [
              "[]"
            ]
          },
          "metadata": {},
          "execution_count": 13
        }
      ]
    },
    {
      "cell_type": "code",
      "source": [
        "embeddings.search(\"feel good story\", limit=1, index=\"dense\")"
      ],
      "metadata": {
        "colab": {
          "base_uri": "https://localhost:8080/"
        },
        "id": "-SnA1s0kxw9x",
        "outputId": "9f6d7cc6-7325-4ac4-ded0-aa0502d088e0"
      },
      "execution_count": 14,
      "outputs": [
        {
          "output_type": "execute_result",
          "data": {
            "text/plain": [
              "[{'id': '4',\n",
              "  'text': 'Maine man wins $1M from $25 lottery ticket',\n",
              "  'score': 0.08329027891159058}]"
            ]
          },
          "metadata": {},
          "execution_count": 14
        }
      ]
    },
    {
      "cell_type": "markdown",
      "source": [
        "Once again, this example demonstrates the difference between keyword and semantic search. The first search call uses the defined keyword index, the second uses the dense vector index."
      ],
      "metadata": {
        "id": "7vFe31Gax-0r"
      }
    },
    {
      "cell_type": "markdown",
      "source": [
        "# LLM orchestration\n",
        "\n",
        "txtai is an all-in-one embeddings database. It is the only vector database that also supports sparse indexes, graph networks and relational databases with inline SQL support. In addition to this, txtai has support for LLM orchestration.\n",
        "\n",
        "The [extractor pipeline](https://neuml.github.io/txtai/pipeline/text/extractor/) is txtai's spin on retrieval augmented generation (RAG). This pipeline extracts knowledge from content by joining a prompt, context data store and generative model together.\n",
        "\n",
        "The following example shows how a large language model (LLM) can use an embeddings database for context."
      ],
      "metadata": {
        "id": "1M_OMEndzgnG"
      }
    },
    {
      "cell_type": "code",
      "source": [
        "import torch\n",
        "from txtai.pipeline import Extractor\n",
        "\n",
        "def prompt(question):\n",
        "  return [{\n",
        "    \"query\": question,\n",
        "    \"question\": f\"\"\"\n",
        "Answer the following question using the context below.\n",
        "Question: {question}\n",
        "Context:\n",
        "\"\"\"\n",
        "}]\n",
        "\n",
        "# Create embeddings\n",
        "embeddings = Embeddings(path=\"sentence-transformers/nli-mpnet-base-v2\", content=True, autoid=\"uuid5\")\n",
        "\n",
        "# Create an index for the list of text\n",
        "embeddings.index(data)\n",
        "\n",
        "# Create and run extractor instance\n",
        "extractor = Extractor(embeddings, \"google/flan-t5-large\", torch_dtype=torch.bfloat16, output=\"reference\")\n",
        "extractor(prompt(\"What country is having issues with climate change?\"))[0]"
      ],
      "metadata": {
        "colab": {
          "base_uri": "https://localhost:8080/"
        },
        "id": "vWX9Q6Iy0X3Z",
        "outputId": "82f9f9cc-b7fb-4ee9-cd35-9b00c022f83a"
      },
      "execution_count": 15,
      "outputs": [
        {
          "output_type": "execute_result",
          "data": {
            "text/plain": [
              "{'answer': 'Canada', 'reference': 'da633124-33ff-58d6-8ecb-14f7a44c042a'}"
            ]
          },
          "metadata": {},
          "execution_count": 15
        }
      ]
    },
    {
      "cell_type": "markdown",
      "source": [
        "The logic above first builds an embeddings index. It then loads a LLM and uses the embeddings index to drive a LLM prompt.\n",
        "\n",
        "The extractor pipeline can optionally return a reference to the id of the best matching record with the answer. That id can be used to resolve the full answer reference. Note that the embeddings above used an [uuid autosequence](https://neuml.github.io/txtai/embeddings/configuration/general/#autoid)."
      ],
      "metadata": {
        "id": "lqsZreJQuSfO"
      }
    },
    {
      "cell_type": "code",
      "source": [
        "uid = extractor(prompt(\"What country is having issues with climate change?\"))[0][\"reference\"]\n",
        "embeddings.search(f\"select id, text from txtai where id = '{uid}'\")"
      ],
      "metadata": {
        "colab": {
          "base_uri": "https://localhost:8080/"
        },
        "id": "ioC-gY4wwWVQ",
        "outputId": "d6eab14a-83cd-434c-faa8-2afe285e842b"
      },
      "execution_count": 16,
      "outputs": [
        {
          "output_type": "execute_result",
          "data": {
            "text/plain": [
              "[{'id': 'da633124-33ff-58d6-8ecb-14f7a44c042a',\n",
              "  'text': \"Canada's last fully intact ice shelf has suddenly collapsed, forming a Manhattan-sized iceberg\"}]"
            ]
          },
          "metadata": {},
          "execution_count": 16
        }
      ]
    },
    {
      "cell_type": "markdown",
      "source": [
        "LLM inference can also be run standalone."
      ],
      "metadata": {
        "id": "fwVMGqV2nHcP"
      }
    },
    {
      "cell_type": "code",
      "source": [
        "from txtai.pipeline import LLM\n",
        "\n",
        "llm = LLM(\"google/flan-t5-large\", torch_dtype=torch.bfloat16)\n",
        "llm(\"Where is one place you'd go in Washington, DC?\")"
      ],
      "metadata": {
        "colab": {
          "base_uri": "https://localhost:8080/",
          "height": 36
        },
        "id": "NAFMSJO-k8qW",
        "outputId": "c2b07b49-f50d-4f74-a2fe-17bc699a91f1"
      },
      "execution_count": 17,
      "outputs": [
        {
          "output_type": "execute_result",
          "data": {
            "text/plain": [
              "'national museum of american history'"
            ],
            "application/vnd.google.colaboratory.intrinsic+json": {
              "type": "string"
            }
          },
          "metadata": {},
          "execution_count": 17
        }
      ]
    },
    {
      "cell_type": "markdown",
      "source": [
        "# Language model workflows\n",
        "\n",
        "Language model workflows, also known as semantic workflows, connect language models together to build intelligent applications.\n",
        "\n",
        "Workflows can run right alongside an embeddings instance, similar to a stored procedure in a relational database. Workflows can be written in either Python or YAML. We'll demonstrate how to write a workflow with YAML."
      ],
      "metadata": {
        "id": "ekRIFk4uuoLN"
      }
    },
    {
      "cell_type": "code",
      "source": [
        "%%writefile embeddings.yml\n",
        "\n",
        "# Embeddings instance\n",
        "writable: true\n",
        "embeddings:\n",
        "  path: sentence-transformers/nli-mpnet-base-v2\n",
        "  content: true\n",
        "  functions:\n",
        "    - {name: translation, argcount: 2, function: translation}\n",
        "\n",
        "# Translation pipeline\n",
        "translation:\n",
        "\n",
        "# Workflow definitions\n",
        "workflow:\n",
        "  search:\n",
        "    tasks:\n",
        "      - search\n",
        "      - action: translation\n",
        "        args:\n",
        "          target: fr\n",
        "        task: template\n",
        "        template: \"{text}\""
      ],
      "metadata": {
        "colab": {
          "base_uri": "https://localhost:8080/"
        },
        "id": "JFzSs_Wa012D",
        "outputId": "055e4f6d-a324-47ce-e3be-5aae06b28651"
      },
      "execution_count": 18,
      "outputs": [
        {
          "output_type": "stream",
          "name": "stdout",
          "text": [
            "Overwriting embeddings.yml\n"
          ]
        }
      ]
    },
    {
      "cell_type": "markdown",
      "source": [
        "The workflow above loads an embeddings index and defines a search workflow. The search workflow runs a search and then passes the results to a translation pipeline. The translation pipeline translates results to French."
      ],
      "metadata": {
        "id": "2WU0fCZasVNf"
      }
    },
    {
      "cell_type": "code",
      "source": [
        "from txtai import Application\n",
        "\n",
        "# Build index\n",
        "app = Application(\"embeddings.yml\")\n",
        "app.add(data)\n",
        "app.index()\n",
        "\n",
        "# Run workflow\n",
        "list(app.workflow(\"search\", [\"select text from txtai where similar('feel good story') limit 1\"]))\n"
      ],
      "metadata": {
        "colab": {
          "base_uri": "https://localhost:8080/"
        },
        "id": "ySOK3HDK1nOZ",
        "outputId": "551f425d-8c99-4705-8dc8-7e23458a3ed5"
      },
      "execution_count": 19,
      "outputs": [
        {
          "output_type": "execute_result",
          "data": {
            "text/plain": [
              "['Maine homme gagne $1M à partir de $25 billet de loterie']"
            ]
          },
          "metadata": {},
          "execution_count": 19
        }
      ]
    },
    {
      "cell_type": "markdown",
      "source": [
        "SQL functions, in some cases, can accomplish the same thing as a workflow. The function below runs the translation pipeline as a function."
      ],
      "metadata": {
        "id": "rhxBBaUO4znH"
      }
    },
    {
      "cell_type": "code",
      "source": [
        "app.search(\"select translation(text, 'fr') text from txtai where similar('feel good story') limit 1\")"
      ],
      "metadata": {
        "colab": {
          "base_uri": "https://localhost:8080/"
        },
        "id": "hJAC430s4yIV",
        "outputId": "8e0c4d6a-42d4-45e8-e79a-7872639c5512"
      },
      "execution_count": 20,
      "outputs": [
        {
          "output_type": "execute_result",
          "data": {
            "text/plain": [
              "[{'text': 'Maine homme gagne $1M à partir de $25 billet de loterie'}]"
            ]
          },
          "metadata": {},
          "execution_count": 20
        }
      ]
    },
    {
      "cell_type": "markdown",
      "source": [
        "LLM chains with templates are also possible with workflows. Workflows are self-contained, they operate both with and without an associated embeddings instance. The following workflow uses a LLM to conditionally translate text to French and then detect the language of the text."
      ],
      "metadata": {
        "id": "u5nHeC8MpX7k"
      }
    },
    {
      "cell_type": "code",
      "source": [
        "%%writefile workflow.yml\n",
        "\n",
        "sequences:\n",
        "  path: google/flan-t5-large\n",
        "  torch_dtype: torch.bfloat16\n",
        "\n",
        "workflow:\n",
        "  chain:\n",
        "    tasks:\n",
        "      - task: template\n",
        "        template: Translate '{statement}' to {language} if it's English\n",
        "        action: sequences\n",
        "      - task: template\n",
        "        template: What language is the following text? {text}\n",
        "        action: sequences"
      ],
      "metadata": {
        "colab": {
          "base_uri": "https://localhost:8080/"
        },
        "id": "zfwpSmTLnVU8",
        "outputId": "154a34ff-2919-415b-a5b7-fb7c9f5b9cf1"
      },
      "execution_count": 21,
      "outputs": [
        {
          "output_type": "stream",
          "name": "stdout",
          "text": [
            "Overwriting workflow.yml\n"
          ]
        }
      ]
    },
    {
      "cell_type": "code",
      "source": [
        "inputs = [\n",
        "  {\"statement\": \"Hello, how are you\", \"language\": \"French\"},\n",
        "  {\"statement\": \"Hallo, wie geht's dir\", \"language\": \"French\"}\n",
        "]\n",
        "\n",
        "app = Application(\"workflow.yml\")\n",
        "list(app.workflow(\"chain\", inputs))"
      ],
      "metadata": {
        "colab": {
          "base_uri": "https://localhost:8080/"
        },
        "id": "8mo2XSr9nXJH",
        "outputId": "b9775570-4dd1-486e-f0c8-62f94fdb85b1"
      },
      "execution_count": 22,
      "outputs": [
        {
          "output_type": "execute_result",
          "data": {
            "text/plain": [
              "['French', 'German']"
            ]
          },
          "metadata": {},
          "execution_count": 22
        }
      ]
    },
    {
      "cell_type": "markdown",
      "metadata": {
        "id": "aDIF3tYt6X0O"
      },
      "source": [
        "# Wrapping up\n",
        "\n",
        "NLP is advancing at a rapid pace. Things not possible even a year ago are now possible. This notebook introduced txtai, an all-in-one embeddings database. The possibilities are limitless and we're excited to see what can be built on top of txtai!\n",
        "\n",
        "Visit the links below for more.\n",
        "\n",
        "[GitHub](https://github.com/neuml/txtai) | [Documentation](https://neuml.github.io/txtai) | [Examples](https://neuml.github.io/txtai/examples/)"
      ]
    }
  ]
}
