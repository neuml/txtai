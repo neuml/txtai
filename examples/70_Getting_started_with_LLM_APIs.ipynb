{
  "nbformat": 4,
  "nbformat_minor": 0,
  "metadata": {
    "colab": {
      "provenance": [],
      "collapsed_sections": [
        "lhrk9y766Lw1",
        "wuCvBPCL-VQG",
        "pgQuDv4fZgHe",
        "xZg16h4KHpE5",
        "Cqh5j0a4JcHg",
        "GqZceA9qJIdq",
        "oPq-sHZifHFZ"
      ],
      "toc_visible": true
    },
    "kernelspec": {
      "name": "python3",
      "display_name": "Python 3"
    },
    "language_info": {
      "name": "python"
    }
  },
  "cells": [
    {
      "cell_type": "markdown",
      "source": [
        "# Getting started with LLM APIs\n",
        "\n",
        "This Notebook has a code snippet that lets us call different LLM APIs using just one set of code.\n",
        "\n",
        "While each LLM has its set of config, here's a cool perk of using [`txtai`](https://neuml.github.io/txtai/): plus [`litellm`](https://docs.litellm.ai/docs/) working behind the scenes. The big win with `txtai` is that it helps standardize inputs and outputs across several LLMs. **This means we can seamlessly call any LLM API**.\n",
        "\n",
        "In this Notebook, you can use the same code to call _**Gemini**_, _**VertexAI**_, _**Mistral**_, _**Cohere**_, _**AWS Bedrock**_, _**OpenAI**_, _**Claude by Anthropic**_, _**Groq**_, _and more_!\n",
        "\n",
        "Isn't that amazing? One code for many different LLM APIs - **that's the beauty of these libraries**!"
      ],
      "metadata": {
        "id": "7btcrgth5z6f"
      }
    },
    {
      "cell_type": "markdown",
      "source": [
        "## Install dependencies\n",
        "\n",
        "This session should guide you through all the essential dependencies you'll need to run the Python script for various LLM APIs.\n",
        "\n",
        "You can choose the dependencies based on your specific needs. Each dependency is carefully commented on in the code, so you'll know exactly which API it supports.\n",
        "\n",
        "The core dependencies you'll typically need are: `txtai` and `txtai[pipeline]`."
      ],
      "metadata": {
        "id": "lhrk9y766Lw1"
      }
    },
    {
      "cell_type": "code",
      "execution_count": null,
      "metadata": {
        "id": "czzRItdyN-Zj"
      },
      "outputs": [],
      "source": [
        "%%capture\n",
        "!pip install txtai==8.1.0\n",
        "!pip install txtai[pipeline]\n",
        "\n",
        "# to use Vertex AI\n",
        "# https://github.com/BerriAI/litellm/issues/5483\n",
        "!pip install google-cloud-aiplatform==1.75.0\n",
        "\n",
        "# to use AWS Bedrock\n",
        "# https://docs.litellm.ai/docs/providers/bedrock\n",
        "!pip install boto3==1.35.88"
      ]
    },
    {
      "cell_type": "markdown",
      "source": [
        "- _**A friendly reminder**: things can change unexpectedly in the ever-evolving world of coding. One day, your code works flawlessly; the next, it might throw a tantrum for no apparent reason. That's why it's essential to specify the dependencies' versions using the latest available versions when writing the code._"
      ],
      "metadata": {
        "id": "evHD8Kw09Aa0"
      }
    },
    {
      "cell_type": "markdown",
      "source": [
        "## LLM API Configuration\n",
        "\n",
        "This session is like a special Python dictionary that holds all the cool configurations for our LLM AI model. It includes details like environment variables, the model's name, text embedding parameters, and other fancy settings.\n",
        "\n",
        "One important key here is `IS_ENABLED`. When it's set to `True`, it's like giving the model a green light to shine! But if you ever feel like taking a break or don't need it for a while, you can easily set this key to `False`, and the model will chill out."
      ],
      "metadata": {
        "id": "wuCvBPCL-VQG"
      }
    },
    {
      "cell_type": "code",
      "source": [
        "import os, getpass\n",
        "from txtai import LLM, Embeddings\n",
        "\n",
        "# https://neuml.github.io/txtai/install/\n",
        "# https://neuml.github.io/txtai/pipeline/text/llm/#example\n",
        "# https://neuml.github.io/txtai/embeddings/configuration/vectors/#method\n",
        "# https://docs.litellm.ai/docs/embedding/supported_embedding\n",
        "LLM_MODEL_CONFIG = {\n",
        "  'GEMINI': {\n",
        "    'IS_ENABLED': True,\n",
        "    'ENV_VAR': ['GEMINI_API_KEY'],\n",
        "    # https://docs.litellm.ai/docs/providers/gemini\n",
        "    # https://ai.google.dev/gemini-api/docs/models/gemini\n",
        "    'LLM_MODEL_NAME': 'gemini/gemini-pro',\n",
        "    # https://github.com/BerriAI/litellm/tree/12c4e7e695edb07d403dd14fc768a736638bd3d1/litellm/llms/vertex_ai\n",
        "    # https://github.com/BerriAI/litellm/blob/e19bb55e3b4c6a858b6e364302ebbf6633a51de5/model_prices_and_context_window.json#L2625\n",
        "    'TEXT_EMBEDDING_PATH': 'gemini/text-embedding-004'\n",
        "  },\n",
        "  'COHERE': {\n",
        "    'IS_ENABLED': False,\n",
        "    'ENV_VAR': ['COHERE_API_KEY'],\n",
        "    # https://docs.litellm.ai/docs/providers/cohere\n",
        "    'LLM_MODEL_NAME': 'command-r',\n",
        "    'TEXT_EMBEDDING_PATH': 'cohere/embed-english-v3.0'\n",
        "  },\n",
        "  'AWS_BEDROCK': {\n",
        "    'IS_ENABLED': False,\n",
        "    'ENV_VAR': ['AWS_ACCESS_KEY_ID', 'AWS_SECRET_ACCESS_KEY', 'AWS_REGION_NAME'],\n",
        "    # https://docs.litellm.ai/docs/providers/bedrock\n",
        "    'LLM_MODEL_NAME': 'bedrock/amazon.titan-text-lite-v1',\n",
        "    'TEXT_EMBEDDING_PATH': 'amazon.titan-embed-text-v1'\n",
        "  },\n",
        "  'MISTRAL': {\n",
        "    'IS_ENABLED': False,\n",
        "    'ENV_VAR': ['MISTRAL_API_KEY'],\n",
        "    # https://docs.litellm.ai/docs/providers/mistral\n",
        "    'LLM_MODEL_NAME': 'mistral/mistral-tiny',\n",
        "    'TEXT_EMBEDDING_PATH': 'mistral/mistral-embed'\n",
        "  },\n",
        "  'VERTEXAI': {\n",
        "    'IS_ENABLED': False,\n",
        "    'ENV_VAR': ['GOOGLE_APPLICATION_CREDENTIALS', 'GOOGLE_VERTEX_PROJECT', 'GOOGLE_VERTEX_LOCATION'],\n",
        "    'ENV_VAR_SETUP': None,\n",
        "    # https://docs.litellm.ai/docs/providers/vertex\n",
        "    'LLM_MODEL_NAME': 'vertex_ai/gemini-pro',\n",
        "    'TEXT_EMBEDDING_PATH': 'vertex_ai/text-embedding-004'\n",
        "  },\n",
        "  'GROQ': {\n",
        "    'IS_ENABLED': False,\n",
        "    'ENV_VAR': ['GROQ_API_KEY'],\n",
        "    # https://docs.litellm.ai/docs/providers/groq\n",
        "    # https://console.groq.com/docs/models\n",
        "    'LLM_MODEL_NAME': 'groq/llama3-8b-8192',\n",
        "    # https://groq.com/retrieval-augmented-generation-with-groq-api/\n",
        "    'TEXT_EMBEDDING_PATH': 'jinaai/jina-embeddings-v2-base-en',\n",
        "  },\n",
        "  'OPENAI': {\n",
        "    'IS_ENABLED': False,\n",
        "    'ENV_VAR': ['OPENAI_API_KEY'],\n",
        "    # https://docs.litellm.ai/docs/providers/openai\n",
        "    # https://platform.openai.com/docs/models\n",
        "    'LLM_MODEL_NAME': 'gpt-4o-mini-2024-07-18',\n",
        "    'TEXT_EMBEDDING_PATH': 'text-embedding-3-small',\n",
        "  },\n",
        "  'CLAUDE': {\n",
        "    'IS_ENABLED': False,\n",
        "    'ENV_VAR': ['ANTHROPIC_API_KEY', 'VOYAGE_API_KEY'],\n",
        "    # https://docs.litellm.ai/docs/providers/anthropic\n",
        "    # https://docs.anthropic.com/en/docs/about-claude/models\n",
        "    'LLM_MODEL_NAME': 'anthropic/claude-3-5-haiku-20241022',\n",
        "    # https://docs.anthropic.com/en/docs/build-with-claude/embeddings\n",
        "    'TEXT_EMBEDDING_PATH': 'voyage/voyage-01',\n",
        "  }\n",
        "}\n",
        "\n",
        "import litellm\n",
        "# # https://github.com/BerriAI/litellm/blob/11932d0576a073d83f38a418cbdf6b2d8d4ff46f/litellm/litellm_core_utils/get_llm_provider_logic.py#L322\n",
        "litellm.suppress_debug_info = True\n",
        "# https://docs.litellm.ai/docs/debugging/local_debugging#set-verbose\n",
        "litellm.set_verbose=False\n",
        "\n",
        "def custom_setup ():\n",
        "  def vertexai_custom_setup ():\n",
        "    # https://docs.litellm.ai/docs/embedding/supported_embedding#usage---embedding\n",
        "    # https://docs.litellm.ai/docs/providers/vertex\n",
        "    litellm.vertex_project = os.environ['GOOGLE_VERTEX_PROJECT']\n",
        "    litellm.vertex_location = os.environ['GOOGLE_VERTEX_LOCATION']\n",
        "  LLM_MODEL_CONFIG['VERTEXAI']['ENV_VAR_SETUP'] = vertexai_custom_setup\n",
        "custom_setup()\n",
        "\n",
        "LLM_MODELS = {k: v for k, v in LLM_MODEL_CONFIG.items() if v['IS_ENABLED']}\n",
        "ENV_VARS = [v['ENV_VAR'] for k, v in LLM_MODELS.items()]\n",
        "ENV_VARS = [x for xs in ENV_VARS for x in xs] # flatten array\n",
        "\n",
        "print(\"config set!\")"
      ],
      "metadata": {
        "colab": {
          "base_uri": "https://localhost:8080/"
        },
        "id": "jyahNyOrO2yp",
        "outputId": "be4ab244-0a57-465d-c143-5155057a8b13"
      },
      "execution_count": 62,
      "outputs": [
        {
          "output_type": "stream",
          "name": "stdout",
          "text": [
            "config set!\n"
          ]
        }
      ]
    },
    {
      "cell_type": "markdown",
      "source": [
        "### Vertex AI"
      ],
      "metadata": {
        "id": "pgQuDv4fZgHe"
      }
    },
    {
      "cell_type": "markdown",
      "source": [
        "When working with VertexAI in a Jupyter notebook, an environment variable called `GOOGLE_APPLICATION_CREDENTIALS` points to a credentials file. This variable is like giving VertexAI a secret map to find the JSON file containing your service account key.\n",
        "\n",
        "Imagine you've set `GOOGLE_APPLICATION_CREDENTIALS` to `application_default_credentials.json`. The service account key is stored in a file with that exact name. And guess what? This file must be in the same place you're working (your current working directory).\n",
        "\n",
        "Here's how your directory might look:\n",
        "```\n",
        ".\n",
        "├── ..\n",
        "├── sample_data/\n",
        "└── application_default_credentials.json\n",
        "```\n",
        "\n",
        "If you use Google Colab, your directory structure will differ slightly, but don't worry! It'll look something like this:\n",
        "\n",
        "```\n",
        ".\n",
        "├── bin\n",
        "├── boot\n",
        "├── content/\n",
        "│   ├── sample_data/\n",
        "│   └── application_default_credentials.json\n",
        "├── datalab\n",
        "├── dev\n",
        "├── etc\n",
        "├── home\n",
        "├── lib\n",
        "├── lib32\n",
        "└── lib64\n",
        "```\n"
      ],
      "metadata": {
        "id": "wG_2u_jKTyYg"
      }
    },
    {
      "cell_type": "markdown",
      "source": [
        "## Environment Variables\n",
        "\n",
        "This session has scripts to reset or set environment variables _(env vars)_. Using env vars is a great way to keep those sensitive API KEY values safe and sound, away from unwanted eyes."
      ],
      "metadata": {
        "id": "xZg16h4KHpE5"
      }
    },
    {
      "cell_type": "markdown",
      "source": [
        "### Script to Reset Environment Variables\n",
        "\n",
        "There are a bunch of reasons to reset the environment variable here. Let's go over a few:\n",
        "- **Switching API Keys:** Sometimes, we need to change to a different API key.\n",
        "- **Typos Happen:** We're all human, and typos can sneak in!\n",
        "- **Skipping Variables:** Sometimes we need to skip one or another, so we set the env var to empty.\n",
        "- **Fresh Start:** After tweaking a script or setup, it's always good to rerun with a fresh environment.\n"
      ],
      "metadata": {
        "id": "Cqh5j0a4JcHg"
      }
    },
    {
      "cell_type": "code",
      "source": [
        "if 'MISTRAL_API_KEY' in os.environ:\n",
        "  del os.environ['MISTRAL_API_KEY']"
      ],
      "metadata": {
        "id": "VejHDLF1aKub"
      },
      "execution_count": 59,
      "outputs": []
    },
    {
      "cell_type": "code",
      "source": [
        "for ENV_VARS in [v['ENV_VAR'] for k, v in LLM_MODEL_CONFIG.items()]:\n",
        "  for ENV_VAR in ENV_VARS:\n",
        "    if ENV_VAR in os.environ:\n",
        "      del os.environ[ENV_VAR]\n",
        "    print(f'unset env var: {ENV_VAR}')\n"
      ],
      "metadata": {
        "colab": {
          "base_uri": "https://localhost:8080/"
        },
        "id": "vzrNvU5XJpIm",
        "outputId": "05181b36-caa8-417d-fcd6-159e15118594"
      },
      "execution_count": null,
      "outputs": [
        {
          "output_type": "stream",
          "name": "stdout",
          "text": [
            "unset env var: GEMINI_API_KEY\n",
            "unset env var: COHERE_API_KEY\n",
            "unset env var: AWS_ACCESS_KEY_ID\n",
            "unset env var: AWS_SECRET_ACCESS_KEY\n",
            "unset env var: AWS_REGION_NAME\n",
            "unset env var: MISTRAL_API_KEY\n",
            "unset env var: GOOGLE_APPLICATION_CREDENTIALS\n",
            "unset env var: GOOGLE_VERTEX_PROJECT\n",
            "unset env var: GOOGLE_VERTEX_LOCATION\n"
          ]
        }
      ]
    },
    {
      "cell_type": "markdown",
      "source": [
        "### Script to Set Environment Variables\n",
        "\n",
        "In this session, the script will stroll through the config dictionary to cherry-pick only the enabled LLM models.\n",
        "\n",
        "Once your favorites have been gathered, the script will prompt you to set all the necessary environment variables.\n",
        "\n",
        "The more LLM models you have enabled, the more prompts you'll see - but don't worry, each environment variable will prompt only once."
      ],
      "metadata": {
        "id": "GqZceA9qJIdq"
      }
    },
    {
      "cell_type": "code",
      "source": [
        "for ENV_VAR in ENV_VARS:\n",
        "  os.environ[ENV_VAR] = getpass.getpass(f\"enter {ENV_VAR}: \") if not ENV_VAR in os.environ else os.environ[ENV_VAR]\n",
        "\n",
        "LLM_MODELS_WITH_CUSTOM_SETUP = {k: v for k, v in LLM_MODELS.items() if 'ENV_VAR_SETUP' in v}\n",
        "for LLM_MODEL, LLM_CONFIG in LLM_MODELS_WITH_CUSTOM_SETUP.items():\n",
        "  print(f\"running custom env var setup for {LLM_MODEL}...\")\n",
        "  LLM_CONFIG['ENV_VAR_SETUP']()\n",
        "  print(f\"done setup for {LLM_MODEL}\")\n",
        "\n",
        "print(\"all env var set!\")"
      ],
      "metadata": {
        "colab": {
          "base_uri": "https://localhost:8080/"
        },
        "id": "zQmXuvbsHSwR",
        "outputId": "ab99a58f-b8db-4845-8aa3-1bd2314b5552"
      },
      "execution_count": 63,
      "outputs": [
        {
          "output_type": "stream",
          "name": "stdout",
          "text": [
            "running custom env var setup for VERTEXAI...\n",
            "done setup for VERTEXAI\n",
            "all env var set!\n"
          ]
        }
      ]
    },
    {
      "cell_type": "markdown",
      "source": [
        "# Code Snippet\n",
        "\n",
        "You can run the code snippet after installing the necessary dependencies and setting up the required environment variables!\n",
        "\n",
        "\n"
      ],
      "metadata": {
        "id": "tnTSFJZcJW5p"
      }
    },
    {
      "cell_type": "markdown",
      "source": [
        "## Introduction\n",
        "\n",
        "This code snippet is designed to achieve only two tasks: _(i)_ run an LLM Pipeline; _(ii)_ text Embed using the LLM Model."
      ],
      "metadata": {
        "id": "oPq-sHZifHFZ"
      }
    },
    {
      "cell_type": "markdown",
      "source": [
        "The code snippet has two tasks:\n",
        "1. **Running an LLM Pipeline**:\n",
        "   - To kickstart an LLM pipeline, you'll need a prompt and a model name. It's as simple as that!\n",
        "2. **Text Embedding using the LLM Model**:\n",
        "   - To embed text with the LLM model, you'll need some text and the name of the text embedding model.\n",
        "\n",
        "In this script, we'll run an LLM pipeline for every given LLM and embed text using the provided LLM model.\n",
        "\n",
        "Here's the heart of the script:\n",
        "```python\n",
        "LLM_MODEL_NAME = \"model-name\"\n",
        "TEXT_EMBEDDING_PATH = \"text-embedding-name\"\n",
        "# A text prompt to send through the LLM pipeline\n",
        "LLM_PROMPT_INPUT = \"Where is one place you'd go in Washington, DC?\"\n",
        "# The embeddings dataset is versatile! It plays with lists, datasets, or even generators.\n",
        "EMBEDDING_DATA = [\n",
        "    \"US tops 5 million confirmed virus cases\",\n",
        "    \"Canada's last fully intact ice shelf has suddenly collapsed, forming a Manhattan-sized iceberg\",\n",
        "    \"Beijing mobilises invasion craft along coast as Taiwan tensions escalate\"\n",
        "]\n",
        "# LLM PIPELINE\n",
        "llm = LLM(LLM_MODEL_NAME, method=\"litellm\")\n",
        "print(llm([{\"role\": \"user\", \"content\": LLM_PROMPT_INPUT}]))\n",
        "# TEXT EMBEDDING\n",
        "embeddings = Embeddings(path=TEXT_EMBEDDING_PATH, method=\"litellm\")\n",
        "embeddings.index(EMBEDDING_DATA) # create an index for the text list\n",
        "for query in (\"feel good story\", \"climate change\"): # now, let's embark on an embeddings search for each query\n",
        "    # extract the uid of the first result\n",
        "    # search result format: (uid, score)\n",
        "    uid = embeddings.search(query, 1)[0][0]\n",
        "    # print the text\n",
        "    print(\"%-20s %s\" % (query, EMBEDDING_DATA[uid]))\n",
        "```\n",
        "\n",
        "- <sup><sub>**friendly reminder**: _the library's author often [points out](https://github.com/neuml/txtai/pull/844#issuecomment-2563561232) that it's [not necessary](https://github.com/neuml/txtai/issues/843#issuecomment-2563244810) to explicitly pass the second argument `method='litellm'`. When you're learning something new, it's okay to avoid relying on shortcuts or \"magic\" until you're more comfortable. Once you understand the library better, you can start using these convenient features to your advantage. In this introduction, I'm intentionally including the second argument `method='litellm'` in the function. However, I'm choosing to leave it out in the Playground section_.</sub></sup>"
      ],
      "metadata": {
        "id": "gKd9GB4UfJTt"
      }
    },
    {
      "cell_type": "markdown",
      "source": [
        "## Playground\n",
        "\n",
        "Once you've installed the necessary dependencies and configured the environment variables, you can play with and explore the code snippet. Enjoy your coding journey! 😊\n"
      ],
      "metadata": {
        "id": "1I6o5f1ue_KX"
      }
    },
    {
      "cell_type": "code",
      "source": [
        "# A text prompt to run through the LLM pipeline\n",
        "# https://neuml.github.io/txtai/pipeline/text/llm/\n",
        "LLM_PROMPT_INPUT = \"Where is one place you'd go in Washington, DC?\"\n",
        "# The embeddings dataset is versatile! It plays with lists, datasets, or even generators.\n",
        "# https://neuml.github.io/txtai/embeddings/\n",
        "EMBEDDING_DATA = [\n",
        "  \"US tops 5 million confirmed virus cases\",\n",
        "  \"Canada's last fully intact ice shelf has suddenly collapsed, forming a Manhattan-sized iceberg\",\n",
        "  \"Beijing mobilises invasion craft along coast as Taiwan tensions escalate\",\n",
        "  \"The National Park Service warns against sacrificing slower friends in a bear attack\",\n",
        "  \"Maine man wins $1M from $25 lottery ticket\",\n",
        "  \"Make huge profits without work, earn up to $100,000 a day\"\n",
        "]\n",
        "\n",
        "for LLM_MODEL, LLM_CONFIG in LLM_MODELS.items():\n",
        "  LLM_MODEL_NAME = LLM_CONFIG['LLM_MODEL_NAME']\n",
        "  TEXT_EMBEDDING_PATH = LLM_CONFIG['TEXT_EMBEDDING_PATH']\n",
        "  print(\"-\" * 50)\n",
        "  print(LLM_MODEL)\n",
        "\n",
        "  # A quick note: you can skip specifying the `method` argument.\n",
        "  # There's an autodetection logic designed to recognize it as a `litellm` model.\n",
        "  # ```\n",
        "  # llm = LLM(LLM_MODEL_NAME, method=\"litellm\")\n",
        "  # ```\n",
        "  llm = LLM(LLM_MODEL_NAME)\n",
        "  # # print(llm(LLM_PROMPT_INPUT, defaultrole=\"user\"))\n",
        "  print(llm([{\"role\": \"user\", \"content\": LLM_PROMPT_INPUT}]))\n",
        "\n",
        "  embeddings = Embeddings(\n",
        "    path=TEXT_EMBEDDING_PATH,\n",
        "    # a quick note: you can skip specifying the `method` argument - there is autodetection logic\n",
        "    # method=\"litellm\"\n",
        "  )\n",
        "  # create an index for the list of text\n",
        "  embeddings.index(EMBEDDING_DATA)\n",
        "  print(\".\" * 50)\n",
        "  print(\"%-20s %s\" % (\"Query\", \"Best Match\"))\n",
        "  print(\".\" * 50)\n",
        "  # run an embeddings search for each query\n",
        "  for query in (\"feel good story\", \"climate change\",\n",
        "      \"public health story\", \"war\", \"wildlife\", \"asia\",\n",
        "      \"lucky\", \"dishonest junk\"):\n",
        "    # extract uid of first result\n",
        "    # search result format: (uid, score)\n",
        "    uid = embeddings.search(query, 1)[0][0]\n",
        "    # print text\n",
        "    print(\"%-20s %s\" % (query, EMBEDDING_DATA[uid]))\n",
        "\n",
        "print(\"-\" * 50)"
      ],
      "metadata": {
        "colab": {
          "base_uri": "https://localhost:8080/"
        },
        "id": "A3NetE3Sh0e0",
        "outputId": "39dbcf21-e7f4-4495-c64c-bf8b2cf36343"
      },
      "execution_count": 64,
      "outputs": [
        {
          "output_type": "stream",
          "name": "stdout",
          "text": [
            "--------------------------------------------------\n",
            "GEMINI\n",
            "National Air and Space Museum\n",
            "..................................................\n",
            "Query                Best Match\n",
            "..................................................\n",
            "feel good story      Maine man wins $1M from $25 lottery ticket\n",
            "climate change       Canada's last fully intact ice shelf has suddenly collapsed, forming a Manhattan-sized iceberg\n",
            "public health story  US tops 5 million confirmed virus cases\n",
            "war                  Beijing mobilises invasion craft along coast as Taiwan tensions escalate\n",
            "wildlife             The National Park Service warns against sacrificing slower friends in a bear attack\n",
            "asia                 Beijing mobilises invasion craft along coast as Taiwan tensions escalate\n",
            "lucky                Maine man wins $1M from $25 lottery ticket\n",
            "dishonest junk       Make huge profits without work, earn up to $100,000 a day\n",
            "--------------------------------------------------\n",
            "COHERE\n",
            "As an AI chatbot, I do not have personal preferences or the ability to travel. However, I can suggest popular tourist destinations in Washington, DC, that are well-known and highly regarded by visitors. One such place is the National Mall, a vast open park in the center of the city.\n",
            "\n",
            "The National Mall is a significant cultural and historical hub, stretching over two miles and featuring iconic landmarks and world-class museums. Here are some highlights:\n",
            "\n",
            "- **Monuments and Memorials:** The Mall is home to iconic structures like the Washington Monument, a towering obelisk honoring the nation's first president, George Washington. You'll also find the Lincoln Memorial, where you can admire the seated statue of Abraham Lincoln and read his famous speeches inscribed on the walls. Other notable memorials include the Vietnam Veterans Memorial, the Korean War Veterans Memorial, and the Martin Luther King Jr. Memorial.\n",
            "\n",
            "- **Smithsonian Museums:** The National Mall is renowned for its collection of Smithsonian Institution museums, offering free admission and a wealth of knowledge. The Smithsonian National Air and Space Museum showcases aviation and space exploration history, including the Apollo 11 command module and the Wright brothers' aircraft. The National Museum of Natural History displays an extensive collection of dinosaur fossils, gems, and exhibits on natural history. Other Smithsonian museums on the Mall include the National Museum of American History, the National Gallery of Art, and the National Museum of African American History and Culture.\n",
            "\n",
            "- **White House and Government Buildings:** The iconic White House, the official residence of the President of the United States, is located near the National Mall. While tours require advance planning and security clearance, visitors can admire the building's exterior and take photos from the nearby Lafayette Square. The Mall is also surrounded by important government buildings like the United States Capitol, the Supreme Court, and various federal agencies, offering a unique opportunity to explore the heart of American government.\n",
            "\n",
            "- **Scenic Beauty and Recreational Activities:** The National Mall's expansive green spaces, tree-lined paths, and reflecting pools provide a peaceful escape in the city. Visitors can enjoy picnics, strolls, or bike rides while taking in the beautiful surroundings. The Tidal Basin, known for its cherry blossom trees, is a popular spot during spring.\n",
            "\n",
            "These are just a few reasons why the National Mall is a top destination in Washington, DC, offering a blend of history, culture, and entertainment. It provides a comprehensive overview of the city's significance and serves as a symbol of American democracy and heritage.\n",
            "..................................................\n",
            "Query                Best Match\n",
            "..................................................\n",
            "feel good story      Maine man wins $1M from $25 lottery ticket\n",
            "climate change       Canada's last fully intact ice shelf has suddenly collapsed, forming a Manhattan-sized iceberg\n",
            "public health story  US tops 5 million confirmed virus cases\n",
            "war                  Beijing mobilises invasion craft along coast as Taiwan tensions escalate\n",
            "wildlife             The National Park Service warns against sacrificing slower friends in a bear attack\n",
            "asia                 Beijing mobilises invasion craft along coast as Taiwan tensions escalate\n",
            "lucky                Maine man wins $1M from $25 lottery ticket\n",
            "dishonest junk       US tops 5 million confirmed virus cases\n",
            "--------------------------------------------------\n",
            "AWS_BEDROCK\n",
            "I am unable to provide directions to a specific location, but I can provide information on popular tourist destinations in Washington, DC. Here are a few suggestions:\n",
            "\n",
            "- The National Mall: The National Mall is a vast park in the center of Washington, DC, and is home to many famous landmarks, including the Lincoln Memorial, the Washington Monument, and the Smithsonian museums.\n",
            "- The National Zoo: The National Zoo is a zoological park in Washington, DC, and is home to a wide variety of animals, including pandas, gorillas, and elephants.\n",
            "- The National Gallery of Art: The National Gallery of Art is a museum in Washington, DC, and is home to a vast collection of art, including works by Van Gogh, Monet, and Rembrandt.\n",
            "- The United States Capitol: The United States Capitol is the home of the United States Congress and is a beautiful building to visit.\n",
            "- The White House: The White House is the official residence of the President of the United States and is a popular tourist destination.\n",
            "- The National Archives: The National Archives is a museum in Washington, DC, and is home to a vast collection of historical documents, including the Declaration of Independence and the Constitution.\n",
            "- The Lincoln Memorial: The Lincoln Memorial is a beautiful memorial to Abraham Lincoln and is a popular tourist destination.\n",
            "- The Smithsonian National Museum of African American History and Culture: The Smithsonian National Museum of African American History and Culture is a museum in Washington, DC, and is dedicated to the history and culture of African Americans.\n",
            "- The National Museum of Natural History: The National Museum of Natural History is a museum in Washington, DC, and is home to a vast collection of natural history specimens, including dinosaurs and fossils.\n",
            "- The National Portrait Gallery: The National Portrait Gallery is a museum in Washington, DC, and is home to a vast collection of portraits, including works by famous artists such as Rembrandt and Van Gogh.\n",
            "- The National Museum of American History: The National Museum of American History is a museum in Washington, DC, and is dedicated to the history and culture of the United States.\n",
            "- The National Museum of the American Indian: The National Museum of the American Indian is a museum in Washington, DC, and is dedicated to the history and culture of Native Americans.\n",
            "- The Washington Monument: The Washington Monument is a towering monument in Washington, DC, and is the tallest structure in the city.\n",
            "-\n",
            "..................................................\n",
            "Query                Best Match\n",
            "..................................................\n",
            "feel good story      Maine man wins $1M from $25 lottery ticket\n",
            "climate change       Canada's last fully intact ice shelf has suddenly collapsed, forming a Manhattan-sized iceberg\n",
            "public health story  US tops 5 million confirmed virus cases\n",
            "war                  Beijing mobilises invasion craft along coast as Taiwan tensions escalate\n",
            "wildlife             The National Park Service warns against sacrificing slower friends in a bear attack\n",
            "asia                 Beijing mobilises invasion craft along coast as Taiwan tensions escalate\n",
            "lucky                Maine man wins $1M from $25 lottery ticket\n",
            "dishonest junk       Make huge profits without work, earn up to $100,000 a day\n",
            "--------------------------------------------------\n",
            "MISTRAL\n",
            "One place I would love to visit in Washington, DC is the Smithsonian National Museum of Natural History. With its vast collection of artifacts and specimens, it would offer a fascinating exploration of various aspects of nature and science. I am particularly interested in the mineral and fossil exhibits, as well as the opportunity to learn about different cultures and their relationship with the environment. Additionally, the museum's giant squid and dinosaur skeletons are legendary, and I am excited to see them in person.\n",
            "..................................................\n",
            "Query                Best Match\n",
            "..................................................\n",
            "feel good story      The National Park Service warns against sacrificing slower friends in a bear attack\n",
            "climate change       Canada's last fully intact ice shelf has suddenly collapsed, forming a Manhattan-sized iceberg\n",
            "public health story  The National Park Service warns against sacrificing slower friends in a bear attack\n",
            "war                  The National Park Service warns against sacrificing slower friends in a bear attack\n",
            "wildlife             The National Park Service warns against sacrificing slower friends in a bear attack\n",
            "asia                 Canada's last fully intact ice shelf has suddenly collapsed, forming a Manhattan-sized iceberg\n",
            "lucky                Maine man wins $1M from $25 lottery ticket\n",
            "dishonest junk       Make huge profits without work, earn up to $100,000 a day\n",
            "--------------------------------------------------\n",
            "VERTEXAI\n",
            "The National Air and Space Museum is one of the most popular tourist destinations in Washington, DC, and for good reason. It houses a vast collection of aircraft and spacecraft, from the Wright brothers' first plane to the Apollo 11 command module. The museum also offers a variety of educational exhibits and programs, making it a great place to learn about the history of aviation and space exploration.\n",
            "\n",
            "If you're a fan of history, the National Museum of American History is another must-see. It tells the story of the United States from its earliest days to the present, and includes exhibits on everything from the American Revolution to the Civil Rights Movement. The museum also has a large collection of artifacts, including the original Star-Spangled Banner.\n",
            "\n",
            "For art lovers, the National Gallery of Art is a must-visit. It houses a vast collection of paintings, sculptures, and other works of art from around the world. The museum also offers a variety of temporary exhibits, so there's always something new to see.\n",
            "\n",
            "If you're looking for something a little different, the International Spy Museum is a great option. It's the only museum in the world dedicated to the history and culture of espionage. The museum has a variety of interactive exhibits, so you can learn about the world of spies firsthand.\n",
            "\n",
            "No matter what your interests are, you're sure to find something to enjoy in Washington, DC. The city is home to a wide variety of museums, monuments, and other attractions, so you're sure to find something that interests you.\n",
            "..................................................\n",
            "Query                Best Match\n",
            "..................................................\n",
            "feel good story      Maine man wins $1M from $25 lottery ticket\n",
            "climate change       Canada's last fully intact ice shelf has suddenly collapsed, forming a Manhattan-sized iceberg\n",
            "public health story  US tops 5 million confirmed virus cases\n",
            "war                  Beijing mobilises invasion craft along coast as Taiwan tensions escalate\n",
            "wildlife             The National Park Service warns against sacrificing slower friends in a bear attack\n",
            "asia                 Beijing mobilises invasion craft along coast as Taiwan tensions escalate\n",
            "lucky                Maine man wins $1M from $25 lottery ticket\n",
            "dishonest junk       Make huge profits without work, earn up to $100,000 a day\n",
            "--------------------------------------------------\n",
            "GROQ\n",
            "Washington, D.C. is a treasure trove of historical landmarks, museums, and cultural attractions! If I had to pick one place to visit, I'd recommend the National Archives Building.\n",
            "\n",
            "Located at 700 Pennsylvania Avenue NW, the National Archives is home to some of the most iconic and historically significant documents in American history, including:\n",
            "\n",
            "1. The Declaration of Independence (1776)\n",
            "2. The United States Constitution (1787)\n",
            "3. The Bill of Rights (1791)\n",
            "\n",
            "These documents are displayed in a climate-controlled environment to ensure their preservation for future generations. You can also explore the exhibits featuring historic artifacts, photographs, and interactive displays that provide context and insights into these groundbreaking documents.\n",
            "\n",
            "Additionally, the National Archives Building is a beautiful example of neoclassical architecture, with a stunning courtyard and a visitor center offering guided tours and Ranger-led programs.\n",
            "\n",
            "Whether you're a history buff, a curious learner, or simply looking for a unique experience, the National Archives Building is a must-visit destination in Washington, D.C.\n"
          ]
        },
        {
          "output_type": "stream",
          "name": "stderr",
          "text": [
            "Some weights of BertModel were not initialized from the model checkpoint at jinaai/jina-embeddings-v2-base-en and are newly initialized: ['embeddings.position_embeddings.weight', 'encoder.layer.0.intermediate.dense.bias', 'encoder.layer.0.intermediate.dense.weight', 'encoder.layer.0.output.LayerNorm.bias', 'encoder.layer.0.output.LayerNorm.weight', 'encoder.layer.0.output.dense.bias', 'encoder.layer.0.output.dense.weight', 'encoder.layer.1.intermediate.dense.bias', 'encoder.layer.1.intermediate.dense.weight', 'encoder.layer.1.output.LayerNorm.bias', 'encoder.layer.1.output.LayerNorm.weight', 'encoder.layer.1.output.dense.bias', 'encoder.layer.1.output.dense.weight', 'encoder.layer.10.intermediate.dense.bias', 'encoder.layer.10.intermediate.dense.weight', 'encoder.layer.10.output.LayerNorm.bias', 'encoder.layer.10.output.LayerNorm.weight', 'encoder.layer.10.output.dense.bias', 'encoder.layer.10.output.dense.weight', 'encoder.layer.11.intermediate.dense.bias', 'encoder.layer.11.intermediate.dense.weight', 'encoder.layer.11.output.LayerNorm.bias', 'encoder.layer.11.output.LayerNorm.weight', 'encoder.layer.11.output.dense.bias', 'encoder.layer.11.output.dense.weight', 'encoder.layer.2.intermediate.dense.bias', 'encoder.layer.2.intermediate.dense.weight', 'encoder.layer.2.output.LayerNorm.bias', 'encoder.layer.2.output.LayerNorm.weight', 'encoder.layer.2.output.dense.bias', 'encoder.layer.2.output.dense.weight', 'encoder.layer.3.intermediate.dense.bias', 'encoder.layer.3.intermediate.dense.weight', 'encoder.layer.3.output.LayerNorm.bias', 'encoder.layer.3.output.LayerNorm.weight', 'encoder.layer.3.output.dense.bias', 'encoder.layer.3.output.dense.weight', 'encoder.layer.4.intermediate.dense.bias', 'encoder.layer.4.intermediate.dense.weight', 'encoder.layer.4.output.LayerNorm.bias', 'encoder.layer.4.output.LayerNorm.weight', 'encoder.layer.4.output.dense.bias', 'encoder.layer.4.output.dense.weight', 'encoder.layer.5.intermediate.dense.bias', 'encoder.layer.5.intermediate.dense.weight', 'encoder.layer.5.output.LayerNorm.bias', 'encoder.layer.5.output.LayerNorm.weight', 'encoder.layer.5.output.dense.bias', 'encoder.layer.5.output.dense.weight', 'encoder.layer.6.intermediate.dense.bias', 'encoder.layer.6.intermediate.dense.weight', 'encoder.layer.6.output.LayerNorm.bias', 'encoder.layer.6.output.LayerNorm.weight', 'encoder.layer.6.output.dense.bias', 'encoder.layer.6.output.dense.weight', 'encoder.layer.7.intermediate.dense.bias', 'encoder.layer.7.intermediate.dense.weight', 'encoder.layer.7.output.LayerNorm.bias', 'encoder.layer.7.output.LayerNorm.weight', 'encoder.layer.7.output.dense.bias', 'encoder.layer.7.output.dense.weight', 'encoder.layer.8.intermediate.dense.bias', 'encoder.layer.8.intermediate.dense.weight', 'encoder.layer.8.output.LayerNorm.bias', 'encoder.layer.8.output.LayerNorm.weight', 'encoder.layer.8.output.dense.bias', 'encoder.layer.8.output.dense.weight', 'encoder.layer.9.intermediate.dense.bias', 'encoder.layer.9.intermediate.dense.weight', 'encoder.layer.9.output.LayerNorm.bias', 'encoder.layer.9.output.LayerNorm.weight', 'encoder.layer.9.output.dense.bias', 'encoder.layer.9.output.dense.weight']\n",
            "You should probably TRAIN this model on a down-stream task to be able to use it for predictions and inference.\n"
          ]
        },
        {
          "output_type": "stream",
          "name": "stdout",
          "text": [
            "..................................................\n",
            "Query                Best Match\n",
            "..................................................\n",
            "feel good story      US tops 5 million confirmed virus cases\n",
            "climate change       Make huge profits without work, earn up to $100,000 a day\n",
            "public health story  Make huge profits without work, earn up to $100,000 a day\n",
            "war                  US tops 5 million confirmed virus cases\n",
            "wildlife             Maine man wins $1M from $25 lottery ticket\n",
            "asia                 US tops 5 million confirmed virus cases\n",
            "lucky                US tops 5 million confirmed virus cases\n",
            "dishonest junk       Maine man wins $1M from $25 lottery ticket\n",
            "--------------------------------------------------\n",
            "OPENAI\n",
            "One notable place to visit in Washington, DC is the National Mall. It's a central gathering place that features iconic landmarks such as the Lincoln Memorial, Washington Monument, and the U.S. Capitol. The expansive green space is not only historically significant but also offers museums like the Smithsonian and various memorials that reflect the nation's heritage. It’s a great spot for both sightseeing and learning about American history.\n",
            "..................................................\n",
            "Query                Best Match\n",
            "..................................................\n",
            "feel good story      Maine man wins $1M from $25 lottery ticket\n",
            "climate change       Canada's last fully intact ice shelf has suddenly collapsed, forming a Manhattan-sized iceberg\n",
            "public health story  US tops 5 million confirmed virus cases\n",
            "war                  Beijing mobilises invasion craft along coast as Taiwan tensions escalate\n",
            "wildlife             The National Park Service warns against sacrificing slower friends in a bear attack\n",
            "asia                 Beijing mobilises invasion craft along coast as Taiwan tensions escalate\n",
            "lucky                Maine man wins $1M from $25 lottery ticket\n",
            "dishonest junk       Make huge profits without work, earn up to $100,000 a day\n",
            "--------------------------------------------------\n",
            "CLAUDE\n",
            "One great place to visit in Washington, DC is the Smithsonian National Air and Space Museum. Located on the National Mall, it features an extensive collection of historic aircraft and space exploration artifacts, including the Wright Brothers' first airplane and the Apollo 11 command module. It's a fascinating museum that offers insights into the history of aviation and space travel.\n",
            "..................................................\n",
            "Query                Best Match\n",
            "..................................................\n",
            "feel good story      Maine man wins $1M from $25 lottery ticket\n",
            "climate change       Canada's last fully intact ice shelf has suddenly collapsed, forming a Manhattan-sized iceberg\n",
            "public health story  Maine man wins $1M from $25 lottery ticket\n",
            "war                  The National Park Service warns against sacrificing slower friends in a bear attack\n",
            "wildlife             The National Park Service warns against sacrificing slower friends in a bear attack\n",
            "asia                 Beijing mobilises invasion craft along coast as Taiwan tensions escalate\n",
            "lucky                Maine man wins $1M from $25 lottery ticket\n",
            "dishonest junk       Make huge profits without work, earn up to $100,000 a day\n",
            "--------------------------------------------------\n"
          ]
        }
      ]
    }
  ]
}